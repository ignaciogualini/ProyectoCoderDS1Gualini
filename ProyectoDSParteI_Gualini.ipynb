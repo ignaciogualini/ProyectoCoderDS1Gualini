{
  "nbformat": 4,
  "nbformat_minor": 0,
  "metadata": {
    "colab": {
      "private_outputs": true,
      "provenance": []
    },
    "kernelspec": {
      "name": "python3",
      "display_name": "Python 3"
    },
    "language_info": {
      "name": "python"
    }
  },
  "cells": [
    {
      "cell_type": "markdown",
      "source": [
        "###Abstract ai jobs proyect:\n",
        "El presente proyecto se centra en el análisis de un dataset de ofertas laborales en el área de IA, que incluye información sobre título del puesto, ubicación, experiencia requerida, tipo de contrato, nivel de trabajo remoto, tamaño de la empresa, habilidades solicitadas, educación requerida, industria, beneficios y salario en dólares estadounidenses.\n",
        "\n",
        "La elección de este dataset responde al interés de comprender los factores que influyen en la remuneración de profesionales del sector, un área donde las competencias técnicas, la localización y la experiencia pueden tener un peso significativo. El objetivo principal es identificar patrones y relaciones entre las características del puesto y el salario ofrecido, y sentar las bases para un modelo predictivo que permita estimar el salario en función de dichas variables.\n",
        "\n",
        "El análisis se desarrollará en varias etapas: identificación y tratamiento de valores perdidos, exploración de las distribuciones y relaciones entre variables, creación de visualizaciones multivariadas y cálculo de medidas estadísticas. Este enfoque permitirá responder preguntas clave como:\n",
        "\n",
        "\n",
        "*   ¿qué nivel de experiencia está mejor remunerado?\n",
        "*   ¿cuál es la influencia del trabajo remoto?\n",
        "*   ¿importa más la localización de la empresa o la residencia del empleado?\n",
        "\n",
        "\n",
        "Los hallazgos obtenidos no solo aportarán información útil para quienes buscan oportunidades laborales en IA, sino también para empresas que desean establecer bandas salariales competitivas. En futuras fases, el proyecto evolucionará hacia la construcción de un modelo para la predicción de salarios, integrando las conclusiones obtenidas en esta etapa inicial.\n"
      ],
      "metadata": {
        "id": "BxZVrpfEfdgP"
      }
    },
    {
      "cell_type": "code",
      "source": [
        "import numpy as np\n",
        "import pandas as pd\n",
        "import matplotlib.pyplot as plt\n",
        "import seaborn as sns\n",
        "from sklearn.compose import make_column_selector"
      ],
      "metadata": {
        "id": "M2E1Ko_nfezq"
      },
      "execution_count": null,
      "outputs": []
    },
    {
      "cell_type": "code",
      "source": [
        "# Defino el dataframe a partir de la url y separo las features del target\n",
        "url = 'https://raw.githubusercontent.com/ignaciogualini/Proyecto_Coder_DS1_Gualini/refs/heads/main/datasets/ai_job_dataset.csv'\n",
        "ai_jobs_df = pd.read_csv(url, index_col='job_id')\n",
        "target = 'salary_usd'\n",
        "X, y = (ai_jobs_df.drop(columns=target), ai_jobs_df[target])\n",
        "ai_jobs_df.head()"
      ],
      "metadata": {
        "id": "ETFUXUJBf7T1"
      },
      "execution_count": null,
      "outputs": []
    },
    {
      "cell_type": "markdown",
      "source": [
        "### Preguntas de investigación:\n",
        "\n",
        "1. **¿Cómo afecta la experiencia al salario?**\n",
        "2. **¿Qué impacto tiene el tamaño de la empresa en el salario?**\n",
        "3. **¿Existe alguna relación entre el salario y el trabajo remoto?**\n",
        "4. **¿Por qué algunos salarios son extremadamente altos y qué factores los explican?¿Son outliers?**\n",
        "---\n",
        "### Hipótesis:\n",
        "\n",
        "*  H1. A mayor experiencia, mayor será el salario.\n",
        "*  H2. Las empresas grandes (`L`) ofrecen salarios más altos que las medianas (`M`) y pequeñas (`S`).\n",
        "*  H3. Sería de esperar que esta variable (`remote_ratio`) no tenga peso alguno en el salario.\n",
        "*  H4. Los salarios extremadamente altos corresponden a roles senior o especializados, con muchos años de experiencia y alto nivel de `experience_level`."
      ],
      "metadata": {
        "id": "b7_asDGqWusB"
      }
    },
    {
      "cell_type": "code",
      "source": [
        "print(f'El dataframe a analizar se compone de {ai_jobs_df.shape[0]} filas y {ai_jobs_df.shape[1]} columnas\\n')\n",
        "print(f'La cantidad de valores nulos por columna es:\\n\\n {ai_jobs_df.isnull().sum()}')"
      ],
      "metadata": {
        "id": "rcQ-fk5-gUXE"
      },
      "execution_count": null,
      "outputs": []
    },
    {
      "cell_type": "code",
      "source": [
        "# Separo las columnas numéricas de las categóricas\n",
        "num_col_selector = make_column_selector(dtype_exclude=object)\n",
        "cat_col_selector = make_column_selector(dtype_include=object)\n",
        "num_cols = num_col_selector(X)\n",
        "cat_cols = cat_col_selector(X)\n",
        "X_num = X[num_cols]\n",
        "X_cat = X[cat_cols]\n",
        "print(f'De estas {ai_jobs_df.shape[1]} columnas, 1 es el target (salario en USD), {len(num_cols)} son numéricas y {len(cat_cols)} son categóricas')"
      ],
      "metadata": {
        "id": "2zqjtA_liIgg"
      },
      "execution_count": null,
      "outputs": []
    },
    {
      "cell_type": "code",
      "source": [
        "print(f'También podemos realizar una breve descripción estadística de sus columnas numéricas:\\n\\n{X_num.describe()}')\n",
        "print(f'\\nPodemos observar que algunas de las columnas numéricas poseen valores mucho mayores a otras,\\npor lo que no es descabellado pensar en una futura estandarización.')\n",
        "print(f'\\nEn cuanto al target:\\n\\n{y.describe()}')"
      ],
      "metadata": {
        "id": "hr89b31QhYHL"
      },
      "execution_count": null,
      "outputs": []
    },
    {
      "cell_type": "code",
      "source": [
        "# Creo una matriz de correlación para el mapa de calor\n",
        "correlation = ai_jobs_df[num_cols + [target]].corr()\n",
        "_ = sns.heatmap(correlation, cmap='Reds', annot=True, linewidths=.5, linecolor='black')\n",
        "print('Gráfico 1')"
      ],
      "metadata": {
        "id": "oAonlFw8ereB"
      },
      "execution_count": null,
      "outputs": []
    },
    {
      "cell_type": "markdown",
      "source": [
        "Tras realizar un análisis de correlación entre variables numéricas, se puede observar que ninguna de ellas guarda relación más que consigo misma. Por lo que no tenemos columnas numéricas que sean redundantes para el análisis.\n",
        "\n",
        "También se ve que el target (`salary_usd`) posee una correlación fuerte con los años de experiencia. Por lo que se confirma que es una buena hipótesis a plantear y a resolver en los siguientes gráficos."
      ],
      "metadata": {
        "id": "QQEFvR-hetwa"
      }
    },
    {
      "cell_type": "code",
      "source": [
        "print(f'La variable remote_ratio solo posee {X_num[\"remote_ratio\"].nunique()} valores únicos ({X_num[\"remote_ratio\"].unique()}), por lo que podríamos usar esta informacion en un gráfico.\\n')\n",
        "\n",
        "# Categorizo la variable \"company_size\" para que aparezca en el orden deseado de tamaño\n",
        "X['company_size'] = pd.Categorical(X['company_size'], categories=['S', 'M', 'L'], ordered=True)\n",
        "print(f'Por otro lado, la variable \"company_size\" posee los valores {list(X[\"company_size\"].cat.categories)}\\n')\n",
        "\n",
        "print('Gráfico 2.1/Gráfico 2.2')\n",
        "\n",
        "color_map = {'S': 'black', 'M': 'blue', 'L': 'red'}\n",
        "\n",
        "# Divido el gráfico en dos ejes separados en dos columnas\n",
        "fig, (ax1, ax2) = plt.subplots(ncols=2, figsize=(12, 6))\n",
        "\n",
        "# Línea de tendencia para ax1\n",
        "sns.regplot(\n",
        "    ax=ax1,\n",
        "    data=ai_jobs_df,\n",
        "    x='years_experience',\n",
        "    y=target,\n",
        "    scatter=False,\n",
        "    line_kws={'color': 'black'},\n",
        "    label='línea de tendencia',\n",
        "    )\n",
        "\n",
        "# Gráfico de dispersión para ax1\n",
        "sc1 = ax1.scatter(\n",
        "    X_num['years_experience'],\n",
        "    y,\n",
        "    c=X_num['remote_ratio'],\n",
        "    cmap='plasma',\n",
        "    alpha=1,\n",
        "    edgecolors='w',\n",
        "    linewidth=0.5,\n",
        ")\n",
        "ax1.set_xlabel('Años de experiencia')\n",
        "ax1.set_ylabel('Salario en USD')\n",
        "ax1.set_title('Relación Experiencia vs Salario con Remote Ratio')\n",
        "plt.colorbar(sc1, label='Remote Ratio')\n",
        "ax1.legend()\n",
        "\n",
        "# Línea de tendencia para ax2\n",
        "sns.regplot(\n",
        "    ax=ax2,\n",
        "    data=ai_jobs_df,\n",
        "    x='years_experience',\n",
        "    y=target,\n",
        "    scatter=False,\n",
        "    line_kws={'color': 'black'},\n",
        "    label='línea de tendencia',\n",
        "    )\n",
        "\n",
        "# Gráfico de dispersión para ax2\n",
        "sc2 = ax2.scatter(\n",
        "    X_num['years_experience'],\n",
        "    y,\n",
        "    c=X['company_size'].map(color_map),\n",
        "    alpha=0.8\n",
        ")\n",
        "ax2.set_xlabel('Años de experiencia')\n",
        "ax2.set_ylabel('Salario en USD')\n",
        "ax2.set_title('Relación Experiencia vs Salario con Tamaño de empresa')\n",
        "plt.colorbar(sc2, label='Company size')\n",
        "ax2.legend()\n",
        "\n",
        "plt.tight_layout()\n",
        "plt.show()"
      ],
      "metadata": {
        "id": "tq7Ik6HgjfHd"
      },
      "execution_count": null,
      "outputs": []
    },
    {
      "cell_type": "markdown",
      "source": [
        "Efectivamente, existe una relación positiva entre los años de experiencia de un trabajador y su salario.\n",
        "En cuanto a la variable `remote_ratio`, podemos ver que en cada columna del gráfico a la izquierda (2.1) los colores se distribuyen de forma variada, lo cual indica que el Remote Ratio no está tan correlacionado directamente con el salario.\n",
        "\n",
        "Realizando este mismo análisis en el gráfico de la derecha (2.2), en cada columna se puede observar cierta tendencia: los puntos rojos suelen estar más arriba y los de color negro abajo, por lo cual existe cierta relación positiva entre el salario de un trabajador y el tamaño de la empresa (`company_size`). Entendiendo que mientras más grande sea la empresa, mejor va a pagar a sus empleados."
      ],
      "metadata": {
        "id": "PhdNfVXcaLYT"
      }
    },
    {
      "cell_type": "code",
      "source": [
        "variables = ['job_description_length', 'benefits_score', 'years_experience'] # Defino variables de interés para la función de figura\n",
        "print('Gráfico 3')\n",
        "\n",
        "# Paso a formato largo para que mi FacetGrid lo entienda\n",
        "df_long = X.melt(\n",
        "    id_vars=['company_size'],\n",
        "    value_vars=variables,\n",
        "    var_name='variable',\n",
        "    value_name='valor'\n",
        ")\n",
        "\n",
        "# Utilizo una función de figura donde las columnas se representen por el tamaño de la compañía\n",
        "# En cada fila se encuentran las variables de interés\n",
        "g = sns.FacetGrid(\n",
        "    df_long,\n",
        "    row='variable',\n",
        "    col='company_size',\n",
        "    margin_titles=True,\n",
        "    sharex=False,\n",
        "    sharey=False\n",
        ")\n",
        "\n",
        "g.map(sns.histplot, 'valor', bins=20, color='blue', edgecolor='black', kde=True)\n",
        "\n",
        "g.set_titles(row_template='{row_name}', col_template='{col_name}')\n",
        "g.set_axis_labels('', \"Frecuencia\")\n",
        "plt.show()"
      ],
      "metadata": {
        "id": "tT8gVva73ZgT"
      },
      "execution_count": null,
      "outputs": []
    },
    {
      "cell_type": "markdown",
      "source": [
        "Observando los histogramas, podemos concluir lo siguiente:\n",
        "la distribución de cada variable numérica (exceptuando \"remote ratio\") es independiente al tamaño de empresa.\n",
        "Por lo que estas variables no están sesgadas en función a si una empresa es grande, mediana o chica.\n",
        "\n",
        "Este tipo de análisis resulta conveniente en estas situaciones, ya que cuando dos variables o features están correlacionadas fuertemente aportan información redundante, y complican la interpretación del modelo.\n",
        "Un claro ejemplo de esto son las columnas `experience_level` y `years_experience`, ya que apuntan a lo mismo."
      ],
      "metadata": {
        "id": "jrgh0-h7bFtD"
      }
    },
    {
      "cell_type": "code",
      "source": [
        "print('Gráfico 4.1/Gráfico 4.2')\n",
        "sns.set_style('darkgrid')\n",
        "\n",
        "# Divido el gráfico en dos ejes separados en dos columnas\n",
        "fig, (ax1, ax2) = plt.subplots(nrows=1, ncols=2, figsize=(14, 6), sharey=False)\n",
        "\n",
        "# Elaboro un boxplot para ax1\n",
        "sns.boxplot(data=ai_jobs_df, y=target, ax=ax1)\n",
        "ax1.axhline(y=y.mean(), color='red', linestyle='--', linewidth=2, label=f'Salario medio: ${y.mean():.2f}')\n",
        "ax1.axhline(y=y.mean() - y.std(), color='blue', linestyle='--', linewidth=2, label=f'Límite inferior: ${(y.mean() - y.std()):.2f}')\n",
        "ax1.axhline(y=y.mean() + y.std(), color='green', linestyle='--', linewidth=2, label=f'Límite superior: ${(y.mean() + y.std()):.2f}')\n",
        "ax1.set_ylabel('Salario en USD')\n",
        "ax1.set_title('Boxplot')\n",
        "ax1.legend(bbox_to_anchor=(1.05, 1), loc='upper left')\n",
        "\n",
        "# Elaboro un histograma para ax2\n",
        "sns.histplot(data=ai_jobs_df, x=target, ax=ax2, bins=20, edgecolor='black', kde=True)\n",
        "ax2.axvline(x=y.mean(), color='red', linestyle='--', linewidth=2,)\n",
        "ax2.axvline(x=y.mean() - y.std(), color='blue', linestyle='--', linewidth=2,)\n",
        "ax2.axvline(x=y.mean() + y.std(), color='green', linestyle='--', linewidth=2,)\n",
        "ax2.set_xlabel('Salario en USD')\n",
        "ax2.set_ylabel('Cantidad')\n",
        "ax2.set_title('Histograma')\n",
        "plt.xticks(rotation=45)\n",
        "\n",
        "_ = plt.suptitle('Distribución de salarios')\n",
        "\n",
        "plt.tight_layout(rect=[0, 0, 0.95, 1])\n",
        "\n",
        "plt.show()\n",
        "\n",
        "print('\\nSe puede ver en el gráfico de caja que tenemos muchos valores por fuera de 1.5IQR. Esto puede llegar a indicar que son outliers.')\n",
        "print('Si analizamos el histograma, vemos que hay una distribución sesgada a la derecha típica de variables salariales:\\nla mayoría gana entre un rango bajo/medio, pero hay una minoría con salarios muy altos.')\n",
        "print('Entonces se puede decir que estos valores son parte natural de la distribución y no un error de registro. Son casos válidos y aportan información relevante para el posterior modelo.')\n",
        "print(f'Esto también va de la mano con el valor de la desviación estándar: {y.std():.1f} $. En proporción, es el {((y.std() / y.mean()) * 100):.2f} % del salario medio, indicando un valor considerable para este parámetro.\\nEsto se relaciona con la distribución sesgada a la derecha, ya que hay muchos valores lejanos a la media.\\n')"
      ],
      "metadata": {
        "id": "IA1Nld8V6wqJ"
      },
      "execution_count": null,
      "outputs": []
    },
    {
      "cell_type": "markdown",
      "source": [
        "###Conclusiones preliminares en función de las hipótesis:\n",
        "\n",
        "*  ***H1. A mayor experiencia, mayor será el salario:***\n",
        "el mapa de calor (*Gráfico 1*) así como la gráfica de dispersión y la línea de regresión (*Gráficos 2.1 y 2.2*) confirman la relación positiva que guardan estas dos variables, confirmando la hipótesis n° 1✅.\n",
        "\n",
        "*  ***H2. Las empresas grandes (`L`) ofrecen salarios más altos que las medianas (`M`) y pequeñas (`S`):***\n",
        "En el segundo gráfico de dispersión (*Gráfico 2.2*) se puede observar que en cada columna los puntos rojos suelen estar más arriba y los de color negro abajo, por lo cual existe cierta relación positiva entre el salario de un trabajador y el tamaño de la empresa. Esto confirma la hipótesis n° 2✅.\n",
        "\n",
        "*  ***H3. Sería de esperar que esta variable (`remote_ratio`) no tenga peso alguno en el salario:***\n",
        "Los colores por `remote_ratio` en el primer gráfico de dispersión (*Gráfico 2.1*) no muestran un patrón claro ni correlación fuerte con el salario.\n",
        "Esto sugiere que el nivel de trabajo remoto no es un factor determinante por sí solo para el salario. Hipótesis confirmada✅.\n",
        "\n",
        "*  ***H4. Los salarios extremadamente altos corresponden a roles senior o especializados, con muchos años de experiencia y alto nivel de `experience_level`:***\n",
        "Este apartado va de la mano con la primera hipótesis. En el boxplot (*Gráfico 4.1*) podemos ver que **estadísticamente** tenemos varios outliers. Pero si realizamos un análisis en conjunto con el histograma (*Gráfico 4.2*) los valores altos no son outliers ni errores de medición, son una representación fiel de una distribución sesgada a la derecha. Esta brecha salarial (y a su vez, desviación estándar considerable) es común en este tipo de empleos donde existen muchos factores que generen diferencia en cuanto al pago.\n"
      ],
      "metadata": {
        "id": "lqcqfKml1kqS"
      }
    }
  ]
}